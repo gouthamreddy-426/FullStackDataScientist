{
 "cells": [
  {
   "cell_type": "code",
   "execution_count": 1,
   "id": "ea2d621c",
   "metadata": {},
   "outputs": [
    {
     "name": "stdout",
     "output_type": "stream",
     "text": [
      "Before swapping a = 10 b = 20\n",
      "After swapping a = 20 b = 10\n"
     ]
    }
   ],
   "source": [
    "#swapping 2 numbers without using 3rd variable\n",
    "a,b = map(int,input(\"Enter a and b values\").split())\n",
    "print(\"Before swapping a =\",a,\"b =\",b)\n",
    "a,b = b,a\n",
    "print(\"After swapping a =\",a,\"b =\",b)"
   ]
  },
  {
   "cell_type": "code",
   "execution_count": 3,
   "id": "6b50f703",
   "metadata": {},
   "outputs": [
    {
     "name": "stdout",
     "output_type": "stream",
     "text": [
      "reversed String is :  mahtuog\n"
     ]
    }
   ],
   "source": [
    "#reversing a string without using inbuilt function\n",
    "s = input(\"Enter a string: \")\n",
    "rs=\"\"\n",
    "for i in range(len(s)-1,-1,-1):\n",
    "    rs+=s[i]\n",
    "print(\"reversed String is : \",rs)"
   ]
  },
  {
   "cell_type": "code",
   "execution_count": 5,
   "id": "28cf1ae5",
   "metadata": {},
   "outputs": [
    {
     "name": "stdout",
     "output_type": "stream",
     "text": [
      "153 is an Armstrong number\n"
     ]
    }
   ],
   "source": [
    "##checking Armstrong number\n",
    "n = input(\"Enter a number: \")\n",
    "a = len(n)\n",
    "n = int(n)\n",
    "temp = n\n",
    "s = 0\n",
    "while temp>0:\n",
    "    r = temp%10\n",
    "    s += r**a\n",
    "    temp //= 10\n",
    "if s == n:\n",
    "    print(n,\"is an Armstrong number\")  \n",
    "else:\n",
    "    print(n,\"is not an Armstrong number\")\n",
    "\n"
   ]
  },
  {
   "cell_type": "code",
   "execution_count": 9,
   "id": "c1d84cca",
   "metadata": {},
   "outputs": [
    {
     "name": "stdout",
     "output_type": "stream",
     "text": [
      "Factorial of 0 is 263130836933693530167218012160000000\n"
     ]
    }
   ],
   "source": [
    "#factorial of a number\n",
    "n = int(input(\"Enter a number \"))\n",
    "if n<0:\n",
    "    print(\"Factorial not defined for negative numbers\")\n",
    "else:\n",
    "    f = 1\n",
    "    while(n>0):\n",
    "        f *= n \n",
    "        n = n-1\n",
    "    print(\"Factorial of\",n,\"is\",f)"
   ]
  },
  {
   "cell_type": "code",
   "execution_count": 10,
   "id": "0050911a",
   "metadata": {},
   "outputs": [
    {
     "name": "stdout",
     "output_type": "stream",
     "text": [
      "Numbers divisible by 3 and 5 between 1 to 100 are:\n",
      "15 30 45 60 75 90 "
     ]
    }
   ],
   "source": [
    "#printing numbers divisible by 3 and 5 between 1 to 100\n",
    "print(\"Numbers divisible by 3 and 5 between 1 to 100 are:\")\n",
    "for i in range(1,101):\n",
    "    if i%3 == 0 and i%5 == 0:\n",
    "        print(i,end=\" \")"
   ]
  },
  {
   "cell_type": "code",
   "execution_count": 11,
   "id": "77dc69cf",
   "metadata": {},
   "outputs": [
    {
     "name": "stdout",
     "output_type": "stream",
     "text": [
      "Maximum is 95\n"
     ]
    }
   ],
   "source": [
    "#finding maximum number in a list without using inbuilt function\n",
    "l = list(map(int,input(\"Enter 5 numbers\").split()))\n",
    "m = l[0]\n",
    "for i in range(1,len(l)):\n",
    "    if m < l[i]:\n",
    "        m = l[i]\n",
    "print(\"Maximum is\",m)"
   ]
  },
  {
   "cell_type": "code",
   "execution_count": 12,
   "id": "a2d9b134",
   "metadata": {},
   "outputs": [
    {
     "name": "stdout",
     "output_type": "stream",
     "text": [
      "2013 is not a leap year\n"
     ]
    }
   ],
   "source": [
    "#checking leap year\n",
    "year = int(input(\"Enter a year\"))\n",
    "if year%400 == 0 or (year%4 == 0 and year%100 != 0):\n",
    "    print(year,\"is a leap year\")\n",
    "else:\n",
    "    print(year,\"is not a leap year\")"
   ]
  },
  {
   "cell_type": "code",
   "execution_count": 13,
   "id": "b4c3cd4c",
   "metadata": {},
   "outputs": [
    {
     "name": "stdout",
     "output_type": "stream",
     "text": [
      "12621 is a palindrome\n"
     ]
    }
   ],
   "source": [
    "#checking palindrome\n",
    "id = input(\"Ente ID\")\n",
    "rid = \"\"\n",
    "for i in range(len(id)-1,-1,-1):\n",
    "    rid += id[i]\n",
    "if id == rid:\n",
    "    print(id,\"is a palindrome\")\n",
    "else:\n",
    "    print(id,\"is not a palindrome\")"
   ]
  },
  {
   "cell_type": "code",
   "execution_count": 14,
   "id": "ec244063",
   "metadata": {},
   "outputs": [
    {
     "name": "stdout",
     "output_type": "stream",
     "text": [
      "Multiplication table of 32 is:\n",
      "32 * 1 = 32\n",
      "32 * 2 = 64\n",
      "32 * 3 = 96\n",
      "32 * 4 = 128\n",
      "32 * 5 = 160\n",
      "32 * 6 = 192\n",
      "32 * 7 = 224\n",
      "32 * 8 = 256\n",
      "32 * 9 = 288\n",
      "32 * 10 = 320\n"
     ]
    }
   ],
   "source": [
    "#printing multiplication table of a number\n",
    "n = int(input(\"Enter a number\"))\n",
    "print(\"Multiplication table of\",n,\"is:\")\n",
    "for i in range(10):\n",
    "    print(n,\"*\",(i+1),\"=\",(n*(i+1)))"
   ]
  },
  {
   "cell_type": "code",
   "execution_count": 15,
   "id": "b3316729",
   "metadata": {},
   "outputs": [
    {
     "name": "stdout",
     "output_type": "stream",
     "text": [
      "There are 9 vowels and 14 consonents in the given sentence\n"
     ]
    }
   ],
   "source": [
    "#counting vowels and consonents in a sentence\n",
    "s = input(\"Enter a sentence\")\n",
    "v = \"aeiou\"\n",
    "vc,cc = 0,0\n",
    "for i in s:\n",
    "    if i == \" \":\n",
    "        continue\n",
    "    if i.lower() in v:\n",
    "        vc += 1\n",
    "    else:\n",
    "        cc += 1\n",
    "print(\"There are\",vc,\"vowels and\",cc,\"consonents in the given sentence\")"
   ]
  }
 ],
 "metadata": {
  "kernelspec": {
   "display_name": "venv",
   "language": "python",
   "name": "python3"
  },
  "language_info": {
   "codemirror_mode": {
    "name": "ipython",
    "version": 3
   },
   "file_extension": ".py",
   "mimetype": "text/x-python",
   "name": "python",
   "nbconvert_exporter": "python",
   "pygments_lexer": "ipython3",
   "version": "3.11.0"
  }
 },
 "nbformat": 4,
 "nbformat_minor": 5
}
