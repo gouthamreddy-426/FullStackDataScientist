{
 "cells": [
  {
   "cell_type": "code",
   "execution_count": null,
   "id": "c9822279",
   "metadata": {},
   "outputs": [
    {
     "name": "stdout",
     "output_type": "stream",
     "text": [
      "67 is a Prime Number\n"
     ]
    }
   ],
   "source": [
    "#11. Checking Prime Number\n",
    "def isPrime(n):\n",
    "    if n<=1:\n",
    "        return False\n",
    "    for i in range(2,n):\n",
    "        if n%i == 0:\n",
    "            return False\n",
    "    return True \n",
    "n = int(input(\"Enter a number \"))\n",
    "print(n)\n",
    "if isPrime(n):\n",
    "    print(n,\"is a Prime Number\")       \n",
    "else:\n",
    "    print(n,\"is not a Prime Number\")         "
   ]
  },
  {
   "cell_type": "code",
   "execution_count": 3,
   "id": "17615a6f",
   "metadata": {},
   "outputs": [
    {
     "name": "stdout",
     "output_type": "stream",
     "text": [
      "[5, 11, 10, 15, 4]\n",
      "11\n"
     ]
    }
   ],
   "source": [
    "#12. second Largest number in a list\n",
    "l = list(map(int,input(\"Enter a list of items\").split()))\n",
    "print(l)\n",
    "if len(l) < 2:\n",
    "    print(\"We need Atleast 2 numbers to find secpnd largest Number\")\n",
    "else:\n",
    "    firstmax,secondmax = -1e9,-1e9\n",
    "    for i in range(len(l)):\n",
    "        if firstmax < l[i]:\n",
    "            secondmax = firstmax        #assigining previous firstmax into secondmax\n",
    "            firstmax = l[i]             #updating firstMax\n",
    "        elif secondmax < l[i] and firstmax > l[i]:      #updating second max if exists\n",
    "            secondmax = l[i]\n",
    "    if secondmax == -1e9:\n",
    "        print(\"No second largest element exists\")\n",
    "    else:\n",
    "        print(secondmax)\n",
    "\n",
    "\n",
    "\n"
   ]
  },
  {
   "cell_type": "code",
   "execution_count": 4,
   "id": "39b0e2bc",
   "metadata": {},
   "outputs": [
    {
     "name": "stdout",
     "output_type": "stream",
     "text": [
      "Sum of evens from 1 to 50 is  650\n"
     ]
    }
   ],
   "source": [
    "#13. Sum of Even numbers from 1 to 50\n",
    "evensum = 0\n",
    "for i in range(1,51):\n",
    "    if i%2 == 0:\n",
    "        evensum += i\n",
    "print(\"Sum of evens from 1 to 50 is \",evensum)"
   ]
  },
  {
   "cell_type": "code",
   "execution_count": 5,
   "id": "f82ec570",
   "metadata": {},
   "outputs": [
    {
     "name": "stdout",
     "output_type": "stream",
     "text": [
      "CVR College Of Engineering\n",
      "CVR College Of Engineering Contains 17 Lower case Charectors and 6 Upper case Charectors\n"
     ]
    }
   ],
   "source": [
    "#14. Counting loercase and uppercase charectors in a string\n",
    "s = input(\"Enetr a String \")\n",
    "print(s)\n",
    "lc,uc = 0,0\n",
    "for i in s:\n",
    "    if i.islower():\n",
    "        lc += 1\n",
    "    elif i.isupper():\n",
    "        uc += 1\n",
    "print(s,\"Contains\",lc,\"Lower case Charectors and\",uc,\"Upper case Charectors\")"
   ]
  },
  {
   "cell_type": "code",
   "execution_count": 6,
   "id": "6a0bea80",
   "metadata": {},
   "outputs": [
    {
     "name": "stdout",
     "output_type": "stream",
     "text": [
      "6\n",
      "0 1 1 2 3 5 "
     ]
    }
   ],
   "source": [
    "#15. Fibinacci series\n",
    "n = int(input())\n",
    "print(n)\n",
    "a = 0\n",
    "b = 1\n",
    "print(a,b,end = \" \")\n",
    "while(n>2):\n",
    "    c = a+b\n",
    "    print(c,end = \" \")\n",
    "    a = b\n",
    "    b = c\n",
    "    n -= 1\n"
   ]
  },
  {
   "cell_type": "code",
   "execution_count": 7,
   "id": "9f1091a3",
   "metadata": {},
   "outputs": [
    {
     "name": "stdout",
     "output_type": "stream",
     "text": [
      "listen silent are Anagrams\n"
     ]
    }
   ],
   "source": [
    "#16. Checking Anagrams Method-1\n",
    "s1,s2 = map(str,input(\"Enter 2 strings\").split())\n",
    "d1 = {}\n",
    "for i in s1:\n",
    "    if i in d1:\n",
    "        d1[i] += 1\n",
    "    else:\n",
    "        d1[i] = 1\n",
    "d2 = {}\n",
    "for i in s2:\n",
    "    if i in d2:\n",
    "        d2[i] += 1\n",
    "    else:\n",
    "        d2[i] = 1\n",
    "if d1 == d2:\n",
    "    print(s1,s2,\"are Anagrams\")\n",
    "else:\n",
    "    print(s1,s2,\"are not Anagrams\")"
   ]
  },
  {
   "cell_type": "code",
   "execution_count": 8,
   "id": "aee20697",
   "metadata": {},
   "outputs": [
    {
     "name": "stdout",
     "output_type": "stream",
     "text": [
      "listen silent are Anagrams\n"
     ]
    }
   ],
   "source": [
    "#16. Checking Anagrams Method-2\n",
    "s1,s2 = map(str,input(\"Enter 2 strings\").split())\n",
    "d1 = \"\".join(sorted(s1))\n",
    "d2 = \"\".join(sorted(s2))\n",
    "if d1 == d2:\n",
    "    print(s1,s2,\"are Anagrams\")\n",
    "else:\n",
    "    print(s1,s2,\"are not Anagrams\")"
   ]
  },
  {
   "cell_type": "code",
   "execution_count": 9,
   "id": "f69c7d2d",
   "metadata": {},
   "outputs": [
    {
     "name": "stdout",
     "output_type": "stream",
     "text": [
      "silent listen are Anagrams\n"
     ]
    }
   ],
   "source": [
    "#16. Checking Anagrams Method-3\n",
    "from collections import Counter\n",
    "s1,s2 = map(str,input(\"Enter 2 strings\").split())\n",
    "if Counter(s1) == Counter(s2):\n",
    "    print(s1,s2,\"are Anagrams\")\n",
    "else:\n",
    "    print(s1,s2,\"are not Anagrams\")\n"
   ]
  },
  {
   "cell_type": "code",
   "execution_count": 10,
   "id": "852782be",
   "metadata": {},
   "outputs": [
    {
     "name": "stdout",
     "output_type": "stream",
     "text": [
      "28 is a Perfect Number\n"
     ]
    }
   ],
   "source": [
    "#17. Perfect Number (Sum of divisors (Excluding number as divisor) == number) method-1\n",
    "n = int(input(\"Enter a number\"))\n",
    "s = 1  #since 1 is divisible for every number \n",
    "for i in range(2,n):  #we check from 2 to n-1 that it is divisible or not\n",
    "    if n%i == 0:\n",
    "        s += i \n",
    "if s == n:\n",
    "    print(n,\"is a Perfect Number\")\n",
    "else:\n",
    "    print(n,\"is not a Perfect Number\")"
   ]
  },
  {
   "cell_type": "code",
   "execution_count": 11,
   "id": "4379ef15",
   "metadata": {},
   "outputs": [
    {
     "name": "stdout",
     "output_type": "stream",
     "text": [
      "28 is a Perfect Number\n"
     ]
    }
   ],
   "source": [
    "#17. Perfect Number (Sum of divisors (Excluding number as divisor) == number) method-2   -->  Reduces TC\n",
    "import math\n",
    "n = int(input(\"Enter a number\"))\n",
    "s = 1\n",
    "for i in range(2,int(math.sqrt(n))+1):   # instead of checking all numbers we check upto sqrt(n) \n",
    "    if n%i == 0:\n",
    "        s += i \n",
    "        s += n//i          # if i is a divisor then n/i is also a divisor (Which is present in next to sqrt(n))\n",
    "if s == n:\n",
    "    print(n,\"is a Perfect Number\")\n",
    "else:\n",
    "    print(n,\"is not a Perfect Number\")"
   ]
  },
  {
   "cell_type": "code",
   "execution_count": 12,
   "id": "2e159390",
   "metadata": {},
   "outputs": [
    {
     "name": "stdout",
     "output_type": "stream",
     "text": [
      "Percentage :  74.80\n",
      "Grade :  C\n"
     ]
    }
   ],
   "source": [
    "#18. percentage and grade of a student marks\n",
    "marks = list(map(int,input(\"Enter 5 subject marks \").split()))\n",
    "percentage = (sum(marks)/500)*100\n",
    "if percentage >= 90:\n",
    "    grade = \"A\"\n",
    "elif percentage >= 75:\n",
    "    grade = \"B\"\n",
    "elif percentage >= 50:\n",
    "    grade = \"C\"\n",
    "else:\n",
    "    grade = \"Fail\"\n",
    "print(f\"Percentage : {percentage : .2f}\")\n",
    "print(\"Grade : \",grade)"
   ]
  },
  {
   "cell_type": "code",
   "execution_count": 13,
   "id": "37e8f595",
   "metadata": {},
   "outputs": [
    {
     "name": "stdout",
     "output_type": "stream",
     "text": [
      "2 3 5 7 11 13 17 19 23 29 31 37 41 43 47 53 59 61 67 71 73 79 83 89 97 "
     ]
    }
   ],
   "source": [
    "#19. prime numbers from 1 to 100\n",
    "import math\n",
    "def isPrime(n):\n",
    "    for i in range(2,int(math.sqrt(n))+1):\n",
    "        if n%i == 0:\n",
    "            return False\n",
    "    return True\n",
    "for i in range(2,101):\n",
    "    if isPrime(i):\n",
    "        print(i,end = \" \")"
   ]
  },
  {
   "cell_type": "code",
   "execution_count": 15,
   "id": "df1f9626",
   "metadata": {},
   "outputs": [
    {
     "name": "stdout",
     "output_type": "stream",
     "text": [
      "     CVR College   of     engineering\n",
      "4\n"
     ]
    }
   ],
   "source": [
    "#20. Number of words in a sentence\n",
    "s = input(\"Enter a sentence \")\n",
    "print(s)\n",
    "s = s.strip()\n",
    "c = 1\n",
    "for i in range(len(s)-1):\n",
    "    if s[i] == \" \" and s[i+1] == \" \":\n",
    "        continue\n",
    "    if s[i] == \" \":\n",
    "        c += 1\n",
    "print(c)"
   ]
  },
  {
   "cell_type": "code",
   "execution_count": 16,
   "id": "7b8ae128",
   "metadata": {},
   "outputs": [
    {
     "name": "stdout",
     "output_type": "stream",
     "text": [
      "The ticket Price after discount is :  225\n"
     ]
    }
   ],
   "source": [
    "#21. Ticket Discount price\n",
    "ticketprice = int(input(\"Enter the Ticket Price \"))\n",
    "age = int(input(\"Enter the age \"))\n",
    "if age < 60:\n",
    "    status = input(\"Are you a Student ?(YES/NO)\")\n",
    "    if status == \"YES\":\n",
    "        d = (ticketprice*20)//100\n",
    "    else:\n",
    "        d = 0\n",
    "else:\n",
    "    d = (ticketprice*10)//100\n",
    "print(\"The ticket Price after discount is : \",(ticketprice-d))"
   ]
  },
  {
   "cell_type": "code",
   "execution_count": 18,
   "id": "e43a95f3",
   "metadata": {},
   "outputs": [
    {
     "name": "stdout",
     "output_type": "stream",
     "text": [
      "560\n",
      "Total Payable amount is :  560\n"
     ]
    }
   ],
   "source": [
    "#22. Ekart delivery charges\n",
    "total = int(input(\"Enter the total cart value\"))\n",
    "print(total)\n",
    "if total <= 500:\n",
    "    total += 50\n",
    "    print(\"Total Payable amount including delivery charges is : \",total)\n",
    "else:\n",
    "    print(\"Total Payable amount is : \",total)"
   ]
  },
  {
   "cell_type": "code",
   "execution_count": 20,
   "id": "def0b146",
   "metadata": {},
   "outputs": [
    {
     "name": "stdout",
     "output_type": "stream",
     "text": [
      "78\n",
      "The grade is  B\n"
     ]
    }
   ],
   "source": [
    "#23. Grade for marks\n",
    "marks = int(input(\"Enter the Marks\"))\n",
    "print(marks)\n",
    "if 90 <= marks <= 100:\n",
    "    grade = \"A\"\n",
    "elif 75 <= marks <= 89:\n",
    "    grade = \"B\"\n",
    "elif 50 <= marks <= 74:\n",
    "    grade = \"C\"\n",
    "else:\n",
    "    grade = \"FAIL\"\n",
    "print(\"The grade is \",grade)"
   ]
  },
  {
   "cell_type": "code",
   "execution_count": 21,
   "id": "3579ac24",
   "metadata": {},
   "outputs": [
    {
     "name": "stdout",
     "output_type": "stream",
     "text": [
      "1450 is the bill and  217 is the tip\n",
      "Total Payable Bill is :  1667\n"
     ]
    }
   ],
   "source": [
    "#24. total bill with tip in restuarent\n",
    "bill = int(input(\"Enter the Bill Amount\"))\n",
    "if bill < 500:\n",
    "    tip = (bill*5)//100\n",
    "elif 500 <= bill <= 1000:\n",
    "    tip = (bill*10)//100\n",
    "elif bill > 1000:\n",
    "    tip = (bill*15)//100\n",
    "print(bill,\"is the bill and \",tip,\"is the tip\")\n",
    "print(\"Total Payable Bill is : \",(bill+tip))"
   ]
  },
  {
   "cell_type": "code",
   "execution_count": null,
   "id": "99e35165",
   "metadata": {},
   "outputs": [
    {
     "name": "stdout",
     "output_type": "stream",
     "text": [
      "19\n",
      "The Cheapest option for  19 months is 8200\n"
     ]
    }
   ],
   "source": [
    "#25. **Gym Membership Plan **\n",
    "month = int(input(\"Enter number of months u will take Membership\"))\n",
    "print(month)             # 1month = 500,6months = 2700,12 months(1year) = 5000\n",
    "years = month//12\n",
    "months = month%12\n",
    "if months<6:\n",
    "    p = years*5000 + months*500\n",
    "elif months == 6:\n",
    "    p = years*5000 + 2700\n",
    "else:\n",
    "    p = years*5000 + min(5000,2700+(months-6)*500)\n",
    "print(\"The Cheapest option for \",month,\"months is\",p)"
   ]
  },
  {
   "cell_type": "code",
   "execution_count": 25,
   "id": "ea7728ac",
   "metadata": {},
   "outputs": [
    {
     "name": "stdout",
     "output_type": "stream",
     "text": [
      "55 42\n",
      "Attendence Percentage :  76\n",
      "The student is eligible for sitting in the exam\n"
     ]
    }
   ],
   "source": [
    "#26. Exam  eligibility\n",
    "total,attended = map(int,input(\"Enter total Classes and attended classes\").split())\n",
    "print(total,attended)\n",
    "percentage = (attended*100//total)\n",
    "print(\"Attendence Percentage : \",percentage)\n",
    "if percentage >= 75:\n",
    "    print(\"The student is eligible for sitting in the exam\")\n",
    "else:\n",
    "    print(\"The student is not eligible for sitting in the exam\")"
   ]
  },
  {
   "cell_type": "code",
   "execution_count": 26,
   "id": "3eaea2d4",
   "metadata": {},
   "outputs": [
    {
     "name": "stdout",
     "output_type": "stream",
     "text": [
      "2600\n",
      "Transaction is Successfull\n"
     ]
    }
   ],
   "source": [
    "#27. ATM only 100 notes withdrwal\n",
    "amount = int(input(\"Enter Withdrawl Amount\"))\n",
    "print(amount)\n",
    "if amount%100 == 0:\n",
    "    print(\"Transaction is Successfull\")\n",
    "else:\n",
    "    print(\"Transaction Failed\")"
   ]
  },
  {
   "cell_type": "code",
   "execution_count": 27,
   "id": "443dd81f",
   "metadata": {},
   "outputs": [
    {
     "name": "stdout",
     "output_type": "stream",
     "text": [
      "36\n",
      "Too hot, stay indoors!\n"
     ]
    }
   ],
   "source": [
    "#28. Whether suggestion\n",
    "temp = int(input(\"Enter the temperature\"))\n",
    "print(temp)\n",
    "if temp >= 35:\n",
    "    print(\"Too hot, stay indoors!\")\n",
    "elif 20<= temp < 35:\n",
    "    print(\"Nice weather, go out!\")\n",
    "else:\n",
    "    print(\"It’s cold, wear warm clothes!\")"
   ]
  },
  {
   "cell_type": "code",
   "execution_count": 28,
   "id": "a4126406",
   "metadata": {},
   "outputs": [
    {
     "name": "stdout",
     "output_type": "stream",
     "text": [
      "6\n",
      "The fine for 6 days late is 50\n"
     ]
    }
   ],
   "source": [
    "#29. Library Fine\n",
    "n = int(input(\"Enter number of late days\"))\n",
    "print(n)\n",
    "if 1 <= n <= 5:\n",
    "    f = 10\n",
    "elif 6 <= n <= 10:\n",
    "    f = 50\n",
    "else:\n",
    "    f = 100\n",
    "print(\"The fine for\",n,\"days late is\",f)"
   ]
  },
  {
   "cell_type": "code",
   "execution_count": 29,
   "id": "7030b4ed",
   "metadata": {},
   "outputs": [
    {
     "name": "stdout",
     "output_type": "stream",
     "text": [
      "203\n",
      "Total Amount 2030\n"
     ]
    }
   ],
   "source": [
    "#30. Electricity Bill Calculator\n",
    "units = int(input(\"Enter the number of units\"))\n",
    "print(units)\n",
    "if units <= 100:\n",
    "    amount = units*5\n",
    "elif 101 <= units <=200:\n",
    "    amount = units*7\n",
    "else:\n",
    "    amount = units*10\n",
    "print(\"Total Amount\",amount)"
   ]
  }
 ],
 "metadata": {
  "kernelspec": {
   "display_name": ".venv (3.12.2)",
   "language": "python",
   "name": "python3"
  },
  "language_info": {
   "codemirror_mode": {
    "name": "ipython",
    "version": 3
   },
   "file_extension": ".py",
   "mimetype": "text/x-python",
   "name": "python",
   "nbconvert_exporter": "python",
   "pygments_lexer": "ipython3",
   "version": "3.12.2"
  }
 },
 "nbformat": 4,
 "nbformat_minor": 5
}
