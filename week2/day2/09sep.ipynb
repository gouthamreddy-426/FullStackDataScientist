{
 "cells": [
  {
   "cell_type": "code",
   "execution_count": null,
   "id": "d54a273b",
   "metadata": {},
   "outputs": [
    {
     "name": "stdout",
     "output_type": "stream",
     "text": [
      "Hello Good Morning!\n",
      "3\n"
     ]
    }
   ],
   "source": [
    "fp = open(\"sample.txt\",\"r\")\n",
    "ch = fp.read(100)\n",
    "print(ch)\n",
    "ch = ch.split()\n",
    "print(len(ch))  \n",
    "fp.close()\n"
   ]
  },
  {
   "cell_type": "code",
   "execution_count": 5,
   "id": "122fe36f",
   "metadata": {},
   "outputs": [
    {
     "name": "stdout",
     "output_type": "stream",
     "text": [
      "Password must contain (at least 8 characters, contains uppercase, lowercase, digit, and special char)\n"
     ]
    }
   ],
   "source": [
    "\n",
    "p = input(\"Enter the password \")\n",
    "if len(p) >= 8 and any(i.isupper() for i in p) and any(i.islower() for i in p) and any(i.isdigit() for i in p) and any(i in \"!@#$%&*\" for i in p):\n",
    "    print(\"Strong Password\")\n",
    "else:\n",
    "    print(\"Password must contain (at least 8 characters, contains uppercase, lowercase, digit, and special char)\")\n",
    "    \n",
    "\n"
   ]
  },
  {
   "cell_type": "code",
   "execution_count": 7,
   "id": "6042d14d",
   "metadata": {},
   "outputs": [
    {
     "name": "stdout",
     "output_type": "stream",
     "text": [
      "5 / 3 = 1.6666666666666667\n"
     ]
    }
   ],
   "source": [
    "a,b = map(int,input(\"Enter a and b values \").split())\n",
    "ch = input(\"Enter operation (+ - * /)\")\n",
    "if ch == '+':\n",
    "    print(a,\"+\",b,\"=\",(a+b))\n",
    "elif ch == '-':\n",
    "    print(a,\"-\",b,\"=\",(a-b))\n",
    "elif ch == '*':\n",
    "    print(a,\"*\",b,\"=\",(a*b))\n",
    "elif ch == '/':\n",
    "    print(a,\"/\",b,\"=\",(a/b))\n",
    "else:\n",
    "    print(\"Invalud Operation\")\n",
    "\n"
   ]
  },
  {
   "cell_type": "code",
   "execution_count": 10,
   "id": "5ff879d0",
   "metadata": {},
   "outputs": [
    {
     "name": "stdout",
     "output_type": "stream",
     "text": [
      "Counter({'raju': 2, 'gaju': 2, 'ravi': 1, 'rahul': 1})\n",
      "raju gaju\n"
     ]
    }
   ],
   "source": [
    "from collections import Counter\n",
    "s = list(map(str,input(\"Enter Students list \").split()))\n",
    "d = Counter(s)\n",
    "res = []\n",
    "print(d)\n",
    "for i in d:\n",
    "    if d[i] > 1:\n",
    "        res.append(i)\n",
    "print(*res)"
   ]
  },
  {
   "cell_type": "code",
   "execution_count": 16,
   "id": "a8ee4f8f",
   "metadata": {},
   "outputs": [
    {
     "name": "stdout",
     "output_type": "stream",
     "text": [
      "Temperature from Celsius to fahrenheit is 36.67\n"
     ]
    }
   ],
   "source": [
    "ty = input(\"Enter type of temperature ( Celsius or Fahrenheit)\")\n",
    "t = int(input(\"Enter temerature \"))\n",
    "if ty == \"Celsius\":\n",
    "    c = ((9/5)*t) + 32\n",
    "    print(\"Temperature from Celsius to fahrenheit is\",round(c,2))\n",
    "else:\n",
    "    c = (t-32)*(5/9)\n",
    "    print(\"Temperature from Celsius to fahrenheit is\",round(c,2))\n"
   ]
  },
  {
   "cell_type": "code",
   "execution_count": 17,
   "id": "f4a20295",
   "metadata": {},
   "outputs": [
    {
     "name": "stdout",
     "output_type": "stream",
     "text": [
      "63\n"
     ]
    }
   ],
   "source": [
    "l = list(map(int,input('Enter numbers ').split()))\n",
    "print(max(l))"
   ]
  },
  {
   "cell_type": "code",
   "execution_count": 19,
   "id": "2ab0b87a",
   "metadata": {},
   "outputs": [
    {
     "name": "stdout",
     "output_type": "stream",
     "text": [
      "Simple interest = 200.0\n"
     ]
    }
   ],
   "source": [
    "p,t,r = map(int,input(\"Enter principle, time, rate \").split())\n",
    "print(\"Simple interest =\",(p*t*r)/100)"
   ]
  },
  {
   "cell_type": "code",
   "execution_count": null,
   "id": "baa16f71",
   "metadata": {},
   "outputs": [
    {
     "name": "stdout",
     "output_type": "stream",
     "text": [
      "Student 1\n",
      "Student 2\n",
      "The syudents who are lessthan 75 % are rani\n"
     ]
    }
   ],
   "source": [
    "d = {}\n",
    "n = int(input(\"Enetr number of students \"))\n",
    "for i in range(n):\n",
    "    print(\"Student\",(i+1))\n",
    "    k = input(\"Enter student name\")\n",
    "    v = int(input(\"Enter student attendence percentage\"))\n",
    "    d[k] = v\n",
    "res = []\n",
    "for i in d:\n",
    "    if d[i] < 75:\n",
    "        res.append(i)\n",
    "print(\"The syudents who are lessthan 75 % are\")\n",
    "print(*res)"
   ]
  },
  {
   "cell_type": "code",
   "execution_count": 26,
   "id": "75129731",
   "metadata": {},
   "outputs": [
    {
     "name": "stdout",
     "output_type": "stream",
     "text": [
      "10\n"
     ]
    }
   ],
   "source": [
    "n = int(input(\"Enetr number \"))\n",
    "s = 0\n",
    "while(n>0):\n",
    "    s += n%10\n",
    "    n = n//10\n",
    "print(s)"
   ]
  },
  {
   "cell_type": "code",
   "execution_count": 30,
   "id": "00b5edc4",
   "metadata": {},
   "outputs": [
    {
     "name": "stdout",
     "output_type": "stream",
     "text": [
      "29 is a prime number\n"
     ]
    }
   ],
   "source": [
    "\n",
    "import math\n",
    "def isPrime(n):\n",
    "    for i in range(2,int(math.sqrt(n))+1):\n",
    "        if n%i == 0:\n",
    "            return False\n",
    "    return True\n",
    "n = int(input(\"Enter n \"))\n",
    "if isPrime(n):\n",
    "    print(n,\"is a prime number\")\n",
    "else:\n",
    "    print(n,\"is not a prime number\")\n"
   ]
  },
  {
   "cell_type": "code",
   "execution_count": 31,
   "id": "6ecf2265",
   "metadata": {},
   "outputs": [
    {
     "name": "stdout",
     "output_type": "stream",
     "text": [
      "Smallest number =  2\n",
      "largest number =  36\n"
     ]
    }
   ],
   "source": [
    "l = list(map(int,input('Enter numbers ').split()))\n",
    "print(\"Smallest number = \",(min(l)))\n",
    "print(\"largest number = \",(max(l)))"
   ]
  },
  {
   "cell_type": "code",
   "execution_count": 32,
   "id": "36fa0780",
   "metadata": {},
   "outputs": [
    {
     "name": "stdout",
     "output_type": "stream",
     "text": [
      "Total bill is 700\n"
     ]
    }
   ],
   "source": [
    "d = {}\n",
    "n = int(input(\"Enetr number of items \"))\n",
    "for _ in range(n):\n",
    "    k = input(\"Enter item \")\n",
    "    v = int(input(\"Enter price of an item \"))\n",
    "    d[k] = v\n",
    "s = 0\n",
    "for i in d:\n",
    "    s += d[i]\n",
    "print(\"Total bill is\",s)"
   ]
  },
  {
   "cell_type": "code",
   "execution_count": 34,
   "id": "7ae0f1c0",
   "metadata": {},
   "outputs": [
    {
     "name": "stdout",
     "output_type": "stream",
     "text": [
      "9 is largest\n"
     ]
    }
   ],
   "source": [
    "a,b,c = map(int,input(\"Enter a b c values \").split())\n",
    "if a > b and a > c:\n",
    "    print(a,\"is largest\")\n",
    "elif b > a and b > c:\n",
    "    print(b,\"is largest\")\n",
    "else:\n",
    "    print(c,\"is largest\")\n"
   ]
  },
  {
   "cell_type": "code",
   "execution_count": 38,
   "id": "9f0b8e6b",
   "metadata": {},
   "outputs": [
    {
     "name": "stdout",
     "output_type": "stream",
     "text": [
      "{'h': 1, 'e': 1, 'l': 3, 'o': 2, ' ': 1, 'w': 1, 'r': 1, 'd': 1}\n"
     ]
    }
   ],
   "source": [
    "s = input(\"Enetr String \")\n",
    "d = {}\n",
    "for i in s:\n",
    "    if i in d:\n",
    "        d[i]+= 1\n",
    "    else:\n",
    "        d[i] = 1\n",
    "\n",
    "print(d)"
   ]
  },
  {
   "cell_type": "code",
   "execution_count": 40,
   "id": "ffe640fe",
   "metadata": {},
   "outputs": [
    {
     "name": "stdout",
     "output_type": "stream",
     "text": [
      "ELectricity Bill is  1050\n"
     ]
    }
   ],
   "source": [
    "n = int(input(\"Enter number of units \"))\n",
    "if n < 100:\n",
    "    bill = 5*n\n",
    "elif 101 <= n <= 200:\n",
    "    bill = 7*n\n",
    "else:\n",
    "    bill = 10*n\n",
    "print(\"ELectricity Bill is \",bill)"
   ]
  },
  {
   "cell_type": "code",
   "execution_count": 41,
   "id": "ac26139c",
   "metadata": {},
   "outputs": [
    {
     "name": "stdout",
     "output_type": "stream",
     "text": [
      "['abc', 'nmd', 'xyz']\n"
     ]
    }
   ],
   "source": [
    "names = list(map(str,input(\"Enter names \").split()))\n",
    "snames = sorted(names)\n",
    "print(snames)"
   ]
  },
  {
   "cell_type": "code",
   "execution_count": 46,
   "id": "b6ef24fb",
   "metadata": {},
   "outputs": [
    {
     "name": "stdout",
     "output_type": "stream",
     "text": [
      "-4321\n"
     ]
    }
   ],
   "source": [
    "n = int(input(\"Enter number \"))\n",
    "a = False\n",
    "if n < 0:\n",
    "    n = abs(n)\n",
    "    a = True\n",
    "rev = 0\n",
    "while(n>0):\n",
    "    t = n%10\n",
    "    rev = (rev*10)+t\n",
    "    n = n //10\n",
    "if a:\n",
    "    print(-rev)\n",
    "else:\n",
    "    print(rev)"
   ]
  },
  {
   "cell_type": "code",
   "execution_count": 49,
   "id": "d67776d0",
   "metadata": {},
   "outputs": [
    {
     "name": "stdout",
     "output_type": "stream",
     "text": [
      "Positive numbers = 2\n",
      "Negative numbers = 2\n",
      "Zeros  = 2\n"
     ]
    }
   ],
   "source": [
    "l = list(map(int,input(\"Enter numbers \").split()))\n",
    "pc,nc,zc = 0,0,0\n",
    "for i in l:\n",
    "    if i > 0:\n",
    "        pc += 1\n",
    "    elif i == 0:\n",
    "        zc += 1\n",
    "    else:\n",
    "        nc += 1\n",
    "print(\"Positive numbers =\",pc)\n",
    "print(\"Negative numbers =\",nc)\n",
    "\n",
    "print(\"Zeros  =\",zc)\n"
   ]
  },
  {
   "cell_type": "code",
   "execution_count": 52,
   "id": "cdc493d6",
   "metadata": {},
   "outputs": [
    {
     "name": "stdout",
     "output_type": "stream",
     "text": [
      "U have 3 Chances left\n",
      "Pin is correct\n"
     ]
    }
   ],
   "source": [
    "cpin = 1379\n",
    "for i in range(3,-1,-1):\n",
    "    print(\"U have\",i,\"Chances left\")\n",
    "    n = int(input(\"Enter correct pin \"))\n",
    "    if n == cpin:\n",
    "        print(\"Pin is correct\")\n",
    "        break\n",
    "    else:\n",
    "        print(\"Invalid Pin!\")"
   ]
  },
  {
   "cell_type": "code",
   "execution_count": 56,
   "id": "bc7ebcda",
   "metadata": {},
   "outputs": [
    {
     "name": "stdout",
     "output_type": "stream",
     "text": [
      "Division of a and b is  6.0\n"
     ]
    }
   ],
   "source": [
    "a = int(input(\"Enter a \"))\n",
    "b = int(input(\"Enter b \"))\n",
    "try:\n",
    "    c = a/b \n",
    "    print(\"Division of a and b is \",c)\n",
    "except Exception as e:\n",
    "    print(\"Divide by zero\")\n",
    "    print(e)"
   ]
  },
  {
   "cell_type": "code",
   "execution_count": 67,
   "id": "77ea4290",
   "metadata": {},
   "outputs": [
    {
     "name": "stdout",
     "output_type": "stream",
     "text": [
      "Cant be divide by Zero\n"
     ]
    }
   ],
   "source": [
    "try:\n",
    "    a = int(input(\"ENter a \"))\n",
    "    b = int(input(\"Enter b \"))\n",
    "    c = a/b \n",
    "    print(\"Division of a and b is\",c)\n",
    "except ValueError:\n",
    "    print(\"Invalid input for the datatype\")\n",
    "except ZeroDivisionError:\n",
    "    print(\"Cant be divide by Zero\")\n",
    "\n",
    "    "
   ]
  },
  {
   "cell_type": "code",
   "execution_count": null,
   "id": "f344a3a5",
   "metadata": {},
   "outputs": [],
   "source": []
  }
 ],
 "metadata": {
  "kernelspec": {
   "display_name": ".venv (3.12.2)",
   "language": "python",
   "name": "python3"
  },
  "language_info": {
   "codemirror_mode": {
    "name": "ipython",
    "version": 3
   },
   "file_extension": ".py",
   "mimetype": "text/x-python",
   "name": "python",
   "nbconvert_exporter": "python",
   "pygments_lexer": "ipython3",
   "version": "3.12.2"
  }
 },
 "nbformat": 4,
 "nbformat_minor": 5
}
