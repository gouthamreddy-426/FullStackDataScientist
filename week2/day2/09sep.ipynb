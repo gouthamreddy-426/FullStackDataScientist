{
 "cells": [
  {
   "cell_type": "code",
   "execution_count": null,
   "id": "d54a273b",
   "metadata": {},
   "outputs": [
    {
     "name": "stdout",
     "output_type": "stream",
     "text": [
      "Hello Good Morning!\n",
      "3\n"
     ]
    }
   ],
   "source": [
    "#1. Count the number of words in a txt file\n",
    "fp = open(\"sample.txt\",\"r\")\n",
    "ch = fp.read(100)\n",
    "print(ch)\n",
    "ch = ch.split()\n",
    "print(len(ch))  \n",
    "fp.close()"
   ]
  },
  {
   "cell_type": "code",
   "execution_count": null,
   "id": "122fe36f",
   "metadata": {},
   "outputs": [
    {
     "name": "stdout",
     "output_type": "stream",
     "text": [
      "Password must contain (at least 8 characters, contains uppercase, lowercase, digit, and special char)\n"
     ]
    }
   ],
   "source": [
    "\n",
    "#2. Strong Password\n",
    "p = input(\"Enter the password \")\n",
    "if len(p) >= 8 and any(i.isupper() for i in p) and any(i.islower() for i in p) and any(i.isdigit() for i in p) and any(i in \"!@#$%&*\" for i in p):\n",
    "    print(\"Strong Password\")\n",
    "else:\n",
    "    print(\"Password must contain (at least 8 characters, contains uppercase, lowercase, digit, and special char)\")\n",
    "    \n",
    "\n"
   ]
  },
  {
   "cell_type": "code",
   "execution_count": null,
   "id": "6042d14d",
   "metadata": {},
   "outputs": [
    {
     "name": "stdout",
     "output_type": "stream",
     "text": [
      "5 / 3 = 1.6666666666666667\n"
     ]
    }
   ],
   "source": [
    "#3. Simple Calculator\n",
    "a,b = map(int,input(\"Enter a and b values \").split())\n",
    "ch = input(\"Enter operation (+ - * /)\")\n",
    "if ch == '+':\n",
    "    print(a,\"+\",b,\"=\",(a+b))\n",
    "elif ch == '-':\n",
    "    print(a,\"-\",b,\"=\",(a-b))\n",
    "elif ch == '*':\n",
    "    print(a,\"*\",b,\"=\",(a*b))\n",
    "elif ch == '/':\n",
    "    print(a,\"/\",b,\"=\",(a/b))\n",
    "else:\n",
    "    print(\"Invalud Operation\")\n",
    "\n"
   ]
  },
  {
   "cell_type": "code",
   "execution_count": null,
   "id": "5ff879d0",
   "metadata": {},
   "outputs": [
    {
     "name": "stdout",
     "output_type": "stream",
     "text": [
      "Counter({'raju': 2, 'gaju': 2, 'ravi': 1, 'rahul': 1})\n",
      "raju gaju\n"
     ]
    }
   ],
   "source": [
    "#4. duplicate names\n",
    "from collections import Counter\n",
    "s = list(map(str,input(\"Enter Students list \").split()))\n",
    "d = Counter(s)\n",
    "res = []\n",
    "print(d)\n",
    "for i in d:\n",
    "    if d[i] > 1:\n",
    "        res.append(i)\n",
    "print(*res)"
   ]
  },
  {
   "cell_type": "code",
   "execution_count": null,
   "id": "a8ee4f8f",
   "metadata": {},
   "outputs": [
    {
     "name": "stdout",
     "output_type": "stream",
     "text": [
      "Temperature from Celsius to fahrenheit is 36.67\n"
     ]
    }
   ],
   "source": [
    "#5. Convert between Celsius and Fahrenheit.\n",
    "ty = input(\"Enter type of temperature ( Celsius or Fahrenheit)\")\n",
    "t = int(input(\"Enter temerature \"))\n",
    "if ty == \"Celsius\":\n",
    "    c = ((9/5)*t) + 32\n",
    "    print(\"Temperature from Celsius to fahrenheit is\",round(c,2))\n",
    "else:\n",
    "    c = (t-32)*(5/9)\n",
    "    print(\"Temperature from Celsius to fahrenheit is\",round(c,2))\n"
   ]
  },
  {
   "cell_type": "code",
   "execution_count": null,
   "id": "f4a20295",
   "metadata": {},
   "outputs": [
    {
     "name": "stdout",
     "output_type": "stream",
     "text": [
      "63\n"
     ]
    }
   ],
   "source": [
    "#6.  Find the largest number from a list of integers.\n",
    "l = list(map(int,input('Enter numbers ').split()))\n",
    "print(max(l))"
   ]
  },
  {
   "cell_type": "code",
   "execution_count": null,
   "id": "2ab0b87a",
   "metadata": {},
   "outputs": [
    {
     "name": "stdout",
     "output_type": "stream",
     "text": [
      "Simple interest = 200.0\n"
     ]
    }
   ],
   "source": [
    "#7. Calculate Simple Interest\n",
    "p,t,r = map(int,input(\"Enter principle, time, rate \").split())\n",
    "print(\"Simple interest =\",(p*t*r)/100)"
   ]
  },
  {
   "cell_type": "code",
   "execution_count": null,
   "id": "baa16f71",
   "metadata": {},
   "outputs": [
    {
     "name": "stdout",
     "output_type": "stream",
     "text": [
      "Student 1\n",
      "Student 2\n",
      "The syudents who are lessthan 75 % are rani\n"
     ]
    }
   ],
   "source": [
    "#8. Students with < 75% attendence\n",
    "d = {}\n",
    "n = int(input(\"Enetr number of students \"))\n",
    "for i in range(n):\n",
    "    print(\"Student\",(i+1))\n",
    "    k = input(\"Enter student name\")\n",
    "    v = int(input(\"Enter student attendence percentage\"))\n",
    "    d[k] = v\n",
    "res = []\n",
    "for i in d:\n",
    "    if d[i] < 75:\n",
    "        res.append(i)\n",
    "print(\"The syudents who are lessthan 75 % are\")\n",
    "print(*res)"
   ]
  },
  {
   "cell_type": "code",
   "execution_count": null,
   "id": "75129731",
   "metadata": {},
   "outputs": [
    {
     "name": "stdout",
     "output_type": "stream",
     "text": [
      "10\n"
     ]
    }
   ],
   "source": [
    "#9. sum of the digits in a number\n",
    "n = int(input(\"Enetr number \"))\n",
    "s = 0\n",
    "while(n>0):\n",
    "    s += n%10\n",
    "    n = n//10\n",
    "print(s)"
   ]
  },
  {
   "cell_type": "code",
   "execution_count": null,
   "id": "00b5edc4",
   "metadata": {},
   "outputs": [
    {
     "name": "stdout",
     "output_type": "stream",
     "text": [
      "29 is a prime number\n"
     ]
    }
   ],
   "source": [
    "#10.Check prime number\n",
    "import math\n",
    "def isPrime(n):\n",
    "    for i in range(2,int(math.sqrt(n))+1):\n",
    "        if n%i == 0:\n",
    "            return False\n",
    "    return True\n",
    "n = int(input(\"Enter n \"))\n",
    "if isPrime(n):\n",
    "    print(n,\"is a prime number\")\n",
    "else:\n",
    "    print(n,\"is not a prime number\")\n"
   ]
  },
  {
   "cell_type": "code",
   "execution_count": null,
   "id": "6ecf2265",
   "metadata": {},
   "outputs": [
    {
     "name": "stdout",
     "output_type": "stream",
     "text": [
      "Smallest number =  2\n",
      "largest number =  36\n"
     ]
    }
   ],
   "source": [
    "#11. smallest and largest numbers from a list.\n",
    "l = list(map(int,input('Enter numbers ').split()))\n",
    "print(\"Smallest number = \",(min(l)))\n",
    "print(\"largest number = \",(max(l)))"
   ]
  },
  {
   "cell_type": "code",
   "execution_count": null,
   "id": "36fa0780",
   "metadata": {},
   "outputs": [
    {
     "name": "stdout",
     "output_type": "stream",
     "text": [
      "Total bill is 700\n"
     ]
    }
   ],
   "source": [
    "#12. Given items with prices in a dictionary, calculate total bill.\n",
    "d = {}\n",
    "n = int(input(\"Enetr number of items \"))\n",
    "for _ in range(n):\n",
    "    k = input(\"Enter item \")\n",
    "    v = int(input(\"Enter price of an item \"))\n",
    "    d[k] = v\n",
    "s = 0\n",
    "for i in d:\n",
    "    s += d[i]\n",
    "print(\"Total bill is\",s)"
   ]
  },
  {
   "cell_type": "code",
   "execution_count": null,
   "id": "7ae0f1c0",
   "metadata": {},
   "outputs": [
    {
     "name": "stdout",
     "output_type": "stream",
     "text": [
      "9 is largest\n"
     ]
    }
   ],
   "source": [
    "#13. Largest among 3 numbers\n",
    "a,b,c = map(int,input(\"Enter a b c values \").split())\n",
    "if a > b and a > c:\n",
    "    print(a,\"is largest\")\n",
    "elif b > a and b > c:\n",
    "    print(b,\"is largest\")\n",
    "else:\n",
    "    print(c,\"is largest\")\n"
   ]
  },
  {
   "cell_type": "code",
   "execution_count": null,
   "id": "9f0b8e6b",
   "metadata": {},
   "outputs": [
    {
     "name": "stdout",
     "output_type": "stream",
     "text": [
      "{'h': 1, 'e': 1, 'l': 3, 'o': 2, ' ': 1, 'w': 1, 'r': 1, 'd': 1}\n"
     ]
    }
   ],
   "source": [
    "#14. Count how many times each character appears in a string.\n",
    "s = input(\"Enetr String \")\n",
    "d = {}\n",
    "for i in s:\n",
    "    if i in d:\n",
    "        d[i]+= 1\n",
    "    else:\n",
    "        d[i] = 1\n",
    "\n",
    "print(d)"
   ]
  },
  {
   "cell_type": "code",
   "execution_count": null,
   "id": "ffe640fe",
   "metadata": {},
   "outputs": [
    {
     "name": "stdout",
     "output_type": "stream",
     "text": [
      "ELectricity Bill is  1050\n"
     ]
    }
   ],
   "source": [
    "#15. Calculate electricity bill:\n",
    "n = int(input(\"Enter number of units \"))\n",
    "if n < 100:\n",
    "    bill = 5*n\n",
    "elif 101 <= n <= 200:\n",
    "    bill = 7*n\n",
    "else:\n",
    "    bill = 10*n\n",
    "print(\"ELectricity Bill is \",bill)"
   ]
  },
  {
   "cell_type": "code",
   "execution_count": null,
   "id": "ac26139c",
   "metadata": {},
   "outputs": [
    {
     "name": "stdout",
     "output_type": "stream",
     "text": [
      "['abc', 'nmd', 'xyz']\n"
     ]
    }
   ],
   "source": [
    "#16. ort a list of names in ascending order.\n",
    "names = list(map(str,input(\"Enter names \").split()))\n",
    "snames = sorted(names)\n",
    "print(snames)"
   ]
  },
  {
   "cell_type": "code",
   "execution_count": null,
   "id": "b6ef24fb",
   "metadata": {},
   "outputs": [
    {
     "name": "stdout",
     "output_type": "stream",
     "text": [
      "-4321\n"
     ]
    }
   ],
   "source": [
    "#17. Reversing a number\n",
    "n = int(input(\"Enter number \"))\n",
    "a = False\n",
    "if n < 0:\n",
    "    n = abs(n)\n",
    "    a = True\n",
    "rev = 0\n",
    "while(n>0):\n",
    "    t = n%10\n",
    "    rev = (rev*10)+t\n",
    "    n = n //10\n",
    "if a:\n",
    "    print(-rev)\n",
    "else:\n",
    "    print(rev)"
   ]
  },
  {
   "cell_type": "code",
   "execution_count": null,
   "id": "d67776d0",
   "metadata": {},
   "outputs": [
    {
     "name": "stdout",
     "output_type": "stream",
     "text": [
      "Positive numbers = 2\n",
      "Negative numbers = 2\n",
      "Zeros  = 2\n"
     ]
    }
   ],
   "source": [
    "#18. Given a list, count positive, negative, and zero numbers.\n",
    "l = list(map(int,input(\"Enter numbers \").split()))\n",
    "pc,nc,zc = 0,0,0\n",
    "for i in l:\n",
    "    if i > 0:\n",
    "        pc += 1\n",
    "    elif i == 0:\n",
    "        zc += 1\n",
    "    else:\n",
    "        nc += 1\n",
    "print(\"Positive numbers =\",pc)\n",
    "print(\"Negative numbers =\",nc)\n",
    "\n",
    "print(\"Zeros  =\",zc)\n"
   ]
  },
  {
   "cell_type": "code",
   "execution_count": null,
   "id": "cdc493d6",
   "metadata": {},
   "outputs": [
    {
     "name": "stdout",
     "output_type": "stream",
     "text": [
      "U have 3 Chances left\n",
      "Pin is correct\n"
     ]
    }
   ],
   "source": [
    "#19. User has 3 attempts to enter correct PIN.\n",
    "cpin = 1379\n",
    "for i in range(3,-1,-1):\n",
    "    print(\"U have\",i,\"Chances left\")\n",
    "    n = int(input(\"Enter correct pin \"))\n",
    "    if n == cpin:\n",
    "        print(\"Pin is correct\")\n",
    "        break\n",
    "    else:\n",
    "        print(\"Invalid Pin!\")"
   ]
  },
  {
   "cell_type": "code",
   "execution_count": null,
   "id": "bc7ebcda",
   "metadata": {},
   "outputs": [
    {
     "name": "stdout",
     "output_type": "stream",
     "text": [
      "Division of a and b is  6.0\n"
     ]
    }
   ],
   "source": [
    "#20. Handle division by zero.\n",
    "a = int(input(\"Enter a \"))\n",
    "b = int(input(\"Enter b \"))\n",
    "try:\n",
    "    c = a/b \n",
    "    print(\"Division of a and b is \",c)\n",
    "except Exception as e:\n",
    "    print(\"Divide by zero\")\n",
    "    print(e)"
   ]
  },
  {
   "cell_type": "code",
   "execution_count": null,
   "id": "77ea4290",
   "metadata": {},
   "outputs": [
    {
     "name": "stdout",
     "output_type": "stream",
     "text": [
      "Cant be divide by Zero\n"
     ]
    }
   ],
   "source": [
    "#21. handles both ValueError (invalid input) and ZeroDivisionError.\n",
    "try:\n",
    "    a = int(input(\"ENter a \"))\n",
    "    b = int(input(\"Enter b \"))\n",
    "    c = a/b \n",
    "    print(\"Division of a and b is\",c)\n",
    "except ValueError:\n",
    "    print(\"Invalid input for the datatype\")\n",
    "except ZeroDivisionError:\n",
    "    print(\"Cant be divide by Zero\")\n",
    "\n",
    "    "
   ]
  },
  {
   "cell_type": "code",
   "execution_count": 3,
   "id": "f344a3a5",
   "metadata": {},
   "outputs": [
    {
     "name": "stdout",
     "output_type": "stream",
     "text": [
      "Access Granted\n",
      "Deposited 200\n",
      "Error : Withdrawl amount exceeds balance\n"
     ]
    }
   ],
   "source": [
    "#22.  If withdrawal amount is greater than balance, raise an exception.\n",
    "class InsufficientFundError(Exception):\n",
    "    pass\n",
    "class ATM:\n",
    "    def __init__(self,pin,balance):\n",
    "        self.balance = balance\n",
    "        self.pin = pin \n",
    "        self.log_in = False\n",
    "    def login(self,pin1):\n",
    "        if pin1 == self.pin:\n",
    "            self.log_in = True\n",
    "            return \"Access Granted\"\n",
    "        else:\n",
    "            return \"Incorrect Pin! Please Relogin\"\n",
    "    def check_balance(self):\n",
    "        if self.log_in == True:\n",
    "            return \"Available Balance \"+str(self.balance)\n",
    "        else:\n",
    "            return \"Relogoin Needed\"\n",
    "    def deposit(self,amount):\n",
    "        if self.log_in == True:\n",
    "            self.balance += amount\n",
    "            return \"Deposited \"+str(amount)\n",
    "        else:\n",
    "            return \"Relogoin Needed\"\n",
    "    def withdraw(self,amount):\n",
    "        if self.log_in == True:\n",
    "            if self.balance >= amount:\n",
    "                self.balance -= amount\n",
    "                return \"Withdrew \"+str(amount)\n",
    "            else:\n",
    "                raise InsufficientFundError(\"Withdrawl amount exceeds balance\")\n",
    "        else:\n",
    "            return \"Relogoin Needed\"\n",
    "atm = ATM(1234, 500)\n",
    "try:\n",
    "    print(atm.login(1234))\n",
    "    print(atm.deposit(200))\n",
    "    print(atm.withdraw(7000))\n",
    "    print(atm.check_balance())\n",
    "except InsufficientFundError as e:\n",
    "    print(\"Error :\",e)\n",
    "\n"
   ]
  },
  {
   "cell_type": "code",
   "execution_count": 6,
   "id": "329c0af2",
   "metadata": {},
   "outputs": [
    {
     "name": "stdout",
     "output_type": "stream",
     "text": [
      "Total Price 3600.0\n",
      "Bill Processing finished\n"
     ]
    }
   ],
   "source": [
    "#23. Calculate total price, handle invalid input, and always show \"Bill processing finished\".\n",
    "try:\n",
    "    price = float(input(\"Enter the price \"))\n",
    "    q = int(input(\"Enter Quantity \"))\n",
    "    total = price*q \n",
    "    print(\"Total Price\",total)\n",
    "except ValueError:\n",
    "    print(\"Invalid Input Please enter numbers only!!\")\n",
    "finally:\n",
    "    print(\"Bill Processing finished\")"
   ]
  }
 ],
 "metadata": {
  "kernelspec": {
   "display_name": ".venv (3.12.2)",
   "language": "python",
   "name": "python3"
  },
  "language_info": {
   "codemirror_mode": {
    "name": "ipython",
    "version": 3
   },
   "file_extension": ".py",
   "mimetype": "text/x-python",
   "name": "python",
   "nbconvert_exporter": "python",
   "pygments_lexer": "ipython3",
   "version": "3.12.2"
  }
 },
 "nbformat": 4,
 "nbformat_minor": 5
}
