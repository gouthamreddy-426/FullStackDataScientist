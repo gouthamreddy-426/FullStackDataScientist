{
 "cells": [
  {
   "cell_type": "code",
   "execution_count": null,
   "id": "773aa301",
   "metadata": {},
   "outputs": [
    {
     "name": "stdout",
     "output_type": "stream",
     "text": [
      "310\n"
     ]
    }
   ],
   "source": [
    "#1. Total Bill for Shopping\n",
    "l = list(map(int,input(\"Enter each item prices\").split()))\n",
    "p = list(map(int,input(\"Enter Quantity of each item\").split()))\n",
    "bill = 0\n",
    "for i in range(len(l)):\n",
    "    bill += l[i]*p[i]\n",
    "print(bill)"
   ]
  },
  {
   "cell_type": "code",
   "execution_count": null,
   "id": "6e16778c",
   "metadata": {},
   "outputs": [
    {
     "name": "stdout",
     "output_type": "stream",
     "text": [
      "Addition =  19\n",
      "Subtraction =  11\n",
      "Multiplication =  60\n",
      "Division =  3.75\n",
      "Modulus =  3\n"
     ]
    }
   ],
   "source": [
    "#2. Arithmetic Operations\n",
    "n1 = int(input(\"Enter first number\"))\n",
    "n2 = int(input(\"Enter second number\"))\n",
    "print(\"Addition = \",(n1+n2))\n",
    "print(\"Subtraction = \",(n1-n2))\n",
    "print(\"Multiplication = \",(n1*n2))\n",
    "print(\"Division = \",(n1/n2))\n",
    "print(\"Modulus = \",(n1%n2))"
   ]
  },
  {
   "cell_type": "code",
   "execution_count": null,
   "id": "5e7413e3",
   "metadata": {},
   "outputs": [
    {
     "name": "stdout",
     "output_type": "stream",
     "text": [
      "Grade:  A\n"
     ]
    }
   ],
   "source": [
    "#3. Grade\n",
    "m = int(input(\"Enter Marks : \"))\n",
    "if m >= 90:\n",
    "    g = \"A+\"\n",
    "elif 80<= m <= 89:\n",
    "    g = \"A\"\n",
    "elif 70<= m <= 79:\n",
    "    g = \"B\"\n",
    "elif 60<= m <= 69:\n",
    "    g = \"C\"\n",
    "else:\n",
    "    g = \"Fail\"\n",
    "print(\"Grade: \",g)\n"
   ]
  },
  {
   "cell_type": "code",
   "execution_count": null,
   "id": "edfc0cd5",
   "metadata": {},
   "outputs": [
    {
     "name": "stdout",
     "output_type": "stream",
     "text": [
      "Highest Marks =  90\n",
      "Lowest Marks =  45\n",
      "Average Marks =  71.4\n"
     ]
    }
   ],
   "source": [
    "#4. Highest.lowest,avg of marks\n",
    "l = list(map(int,input(\"Enter marks\").split()))\n",
    "print(\"Highest Marks = \",max(l))\n",
    "print(\"Lowest Marks = \",min(l))\n",
    "print(\"Average Marks = \",(sum(l)/len(l)))"
   ]
  },
  {
   "cell_type": "code",
   "execution_count": null,
   "id": "29676f6a",
   "metadata": {},
   "outputs": [
    {
     "name": "stdout",
     "output_type": "stream",
     "text": [
      "Phone Number of  ravi :  456\n"
     ]
    }
   ],
   "source": [
    "#5. Searching a number from Phonebook\n",
    "d = {}\n",
    "n = int(input(\"Enter numbers of elements\"))\n",
    "for i in range(n):\n",
    "    name = input(\"Enter name\")\n",
    "    phn = int(input(\"Enter Phone number\"))\n",
    "    d[name] = phn \n",
    "s = input(\"Search name \")\n",
    "if s in d:\n",
    "    print(\"Phone Number of \",s,\": \",d[s])\n",
    "else:\n",
    "    print(\"Not Found\")\n"
   ]
  },
  {
   "cell_type": "code",
   "execution_count": null,
   "id": "62abea30",
   "metadata": {},
   "outputs": [
    {
     "name": "stdout",
     "output_type": "stream",
     "text": [
      "Total Words =  3\n",
      "Total Charectors =  15\n",
      "Total Vowels =  6\n"
     ]
    }
   ],
   "source": [
    "#6. count the number of words, characters, and vowels in a sentence.\n",
    "s = input(\"Enter sentence\")\n",
    "s = s.strip()\n",
    "wc,vc = 1,0\n",
    "for i in range(len(s)-1):\n",
    "    if s[i] == \" \" and s[i+1] == \" \":\n",
    "        continue\n",
    "    else:\n",
    "        if s[i] == \" \":\n",
    "            wc += 1\n",
    "        if s[i].lower() in \"aeiou\":\n",
    "            vc += 1\n",
    "if s[-1].lower() in \"aeiou\":\n",
    "    vc += 1\n",
    "print(\"Total Words = \",wc)\n",
    "print(\"Total Charectors = \",(len(s)-wc+1))\n",
    "print(\"Total Vowels = \",vc)"
   ]
  },
  {
   "cell_type": "code",
   "execution_count": 3,
   "id": "31342c64",
   "metadata": {},
   "outputs": [
    {
     "name": "stdout",
     "output_type": "stream",
     "text": [
      "Compound Interst 512.500000\n",
      "Total Amount  5512.5\n"
     ]
    }
   ],
   "source": [
    "#7. Calculating Simple and Compound Interest\n",
    "p,r,t = map(int,input(\"Enter principle rate time\").split())\n",
    "type = input(\"Enter type of interset\")\n",
    "if type == \"simple\":\n",
    "    i = (p*t*r)/100\n",
    "    print(f\"Simple Interset = {i:.2f}\")\n",
    "else:\n",
    "    i = p*((1+(r/100))**t) - p\n",
    "    print(f\"Compound Interst {i:2f}\")\n",
    "print(\"Total Amount \",(p+i))\n"
   ]
  },
  {
   "cell_type": "code",
   "execution_count": 9,
   "id": "89118b4e",
   "metadata": {},
   "outputs": [
    {
     "name": "stdout",
     "output_type": "stream",
     "text": [
      "HELLO\n",
      "KHOOR"
     ]
    }
   ],
   "source": [
    "#8. Caesar Cipher encryption\n",
    "s = input(\"Enter a Word\")\n",
    "k = int(input(\"Enter number of Shifts\"))\n",
    "print(s)\n",
    "for i in range(len(s)):\n",
    "    if s[i].islower():\n",
    "        ch = ((ord(s[i])+k)-97)%26\n",
    "        print(chr(ch+97),end = \"\")\n",
    "    else:\n",
    "        ch = ((ord(s[i])+k)-65)%26\n",
    "        print(chr(ch+65),end = \"\")"
   ]
  },
  {
   "cell_type": "code",
   "execution_count": null,
   "id": "fdd06517",
   "metadata": {},
   "outputs": [
    {
     "name": "stdout",
     "output_type": "stream",
     "text": [
      "PIN Verified\n",
      "Withdrawal Successful. Remaining Balance = 3000\n"
     ]
    }
   ],
   "source": [
    "#9. ATM\n",
    "pin = input(\"Enter PIN\")\n",
    "if len(pin) == 4 and pin.isdigit():\n",
    "    print(\"PIN Verified\")\n",
    "    bal = int(input(\"Enter Balance\"))\n",
    "    wi = int(input(\"Enter Withdrawl Amount\"))\n",
    "    if bal >= wi:\n",
    "        print(\"Withdrawal Successful. Remaining Balance =\",(bal-wi))\n",
    "    else:\n",
    "        print(\"Insufficient Balance\")\n",
    "else:\n",
    "    print(\"Invalid PIN\")\n"
   ]
  },
  {
   "cell_type": "code",
   "execution_count": null,
   "id": "1dce5310",
   "metadata": {},
   "outputs": [
    {
     "name": "stdout",
     "output_type": "stream",
     "text": [
      "===Library Menu===\n",
      "1.Add a Book\n",
      "2.Remove a Book\n",
      "3.Display The Books\n",
      "4.Quit\n",
      "\n",
      "['Python Basics', 'Data Science', 'AI Fundamentals']\n",
      "Total Books: 3\n",
      "\n",
      "1.Add a Book\n",
      "2.Remove a Book\n",
      "3.Display The Books\n",
      "4.Quit\n",
      "\n",
      "ml added in Library\n",
      "\n",
      "1.Add a Book\n",
      "2.Remove a Book\n",
      "3.Display The Books\n",
      "4.Quit\n",
      "\n",
      "['Python Basics', 'Data Science', 'AI Fundamentals', 'ml']\n",
      "Total Books: 4\n",
      "\n",
      "1.Add a Book\n",
      "2.Remove a Book\n",
      "3.Display The Books\n",
      "4.Quit\n",
      "\n"
     ]
    }
   ],
   "source": [
    "#10. Adding removing displaying the books in Library\n",
    "books = [\"Python Basics\", \"Data Science\", \"AI Fundamentals\"]\n",
    "print(\"===Library Menu===\")\n",
    "while True:\n",
    "    print(\"1.Add a Book\\n2.Remove a Book\\n3.Display The Books\\n4.Quit\\n\")\n",
    "    ch = int(input(\"Enter your Choice\"))\n",
    "    if ch == 1:\n",
    "        sub = input(\"Which Subject You want to add ?\")\n",
    "        books.append(sub)\n",
    "        print(sub,\"added in Library\")\n",
    "    elif ch == 2:\n",
    "        sub = input(\"Which Subject You want to remove ?\")\n",
    "        if sub in books:\n",
    "            books.remove(sub)\n",
    "            print(sub,\"Removed From Library\")\n",
    "        else:\n",
    "            print(sub,\"Is Not there to remove\")\n",
    "    elif ch == 3:\n",
    "        print(books)\n",
    "        print(\"Total Books:\",len(books))\n",
    "    elif ch == 4:\n",
    "        break\n",
    "    else:\n",
    "        print(\"Invalid Choice\")\n",
    "    print()\n",
    "\n",
    "\n",
    "\n"
   ]
  },
  {
   "cell_type": "code",
   "execution_count": null,
   "id": "c673e8cc",
   "metadata": {},
   "outputs": [],
   "source": []
  }
 ],
 "metadata": {
  "kernelspec": {
   "display_name": ".venv (3.12.2)",
   "language": "python",
   "name": "python3"
  },
  "language_info": {
   "codemirror_mode": {
    "name": "ipython",
    "version": 3
   },
   "file_extension": ".py",
   "mimetype": "text/x-python",
   "name": "python",
   "nbconvert_exporter": "python",
   "pygments_lexer": "ipython3",
   "version": "3.12.2"
  }
 },
 "nbformat": 4,
 "nbformat_minor": 5
}
